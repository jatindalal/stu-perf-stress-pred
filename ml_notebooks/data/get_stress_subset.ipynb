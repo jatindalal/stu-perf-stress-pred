{
 "cells": [
  {
   "cell_type": "code",
   "execution_count": 1,
   "metadata": {},
   "outputs": [],
   "source": [
    "import numpy as np\n",
    "import pandas as pd"
   ]
  },
  {
   "cell_type": "code",
   "execution_count": 2,
   "metadata": {},
   "outputs": [
    {
     "name": "stderr",
     "output_type": "stream",
     "text": [
      "C:\\Users\\jatindalal\\miniconda3\\envs\\dev\\lib\\site-packages\\openpyxl\\worksheet\\_reader.py:312: UserWarning: Unknown extension is not supported and will be removed\n",
      "  warn(msg)\n"
     ]
    }
   ],
   "source": [
    "data = pd.read_excel(\"stress_data.xlsx\", sheet_name=\"Data\")\n",
    "data = data.iloc[2:,0:8]\n",
    "data = data.set_axis(data.iloc[0], axis=1)\n",
    "\n",
    "\n",
    "data = data.iloc[1:,0:8]\n",
    "data = data.rename({\"Please state your age in years:\":\"age\",\"Gender\":\"gender\",\"Ethnicity\": \"ethnicity\", \"What is your tuition fee status?\":\"country\", \"What postgraduate qualification are you studying for?\":\"pg_study\", \"What is your year of study?\":\"year_of_study\", \"What is your subject of study?\":\"subject\", \"How often have you felt stressed over the last three months?\":\"stress_level\"}, axis=1)\n",
    "data = data[[\"gender\",\"ethnicity\", \"age\",\"country\",\"pg_study\",\"stress_level\"]]\n",
    "\n",
    "data.to_csv(\"stress_subset.csv\", index=False)"
   ]
  }
 ],
 "metadata": {
  "interpreter": {
   "hash": "8b8e1ede988061e9a94234b9928503d791a6f62f4bbabc5ac672d22266b9bf4f"
  },
  "kernelspec": {
   "display_name": "Python 3.9.7 64-bit ('dev': conda)",
   "name": "python3"
  },
  "language_info": {
   "codemirror_mode": {
    "name": "ipython",
    "version": 3
   },
   "file_extension": ".py",
   "mimetype": "text/x-python",
   "name": "python",
   "nbconvert_exporter": "python",
   "pygments_lexer": "ipython3",
   "version": "3.9.7"
  },
  "orig_nbformat": 4
 },
 "nbformat": 4,
 "nbformat_minor": 2
}
