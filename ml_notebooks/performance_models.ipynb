{
 "cells": [
  {
   "cell_type": "code",
   "execution_count": 1,
   "metadata": {},
   "outputs": [],
   "source": [
    "import numpy as np\n",
    "import pandas as pd\n",
    "\n",
    "from sklearn.linear_model import LinearRegression, Lasso\n",
    "from sklearn.ensemble import RandomForestRegressor\n",
    "from sklearn.svm import SVR\n",
    "\n",
    "from sklearn.model_selection import train_test_split\n",
    "from sklearn.metrics import accuracy_score\n",
    "from sklearn.preprocessing import LabelEncoder\n",
    "\n",
    "\n",
    "import pickle"
   ]
  },
  {
   "cell_type": "code",
   "execution_count": 2,
   "metadata": {},
   "outputs": [
    {
     "data": {
      "text/html": [
       "<div>\n",
       "<style scoped>\n",
       "    .dataframe tbody tr th:only-of-type {\n",
       "        vertical-align: middle;\n",
       "    }\n",
       "\n",
       "    .dataframe tbody tr th {\n",
       "        vertical-align: top;\n",
       "    }\n",
       "\n",
       "    .dataframe thead th {\n",
       "        text-align: right;\n",
       "    }\n",
       "</style>\n",
       "<table border=\"1\" class=\"dataframe\">\n",
       "  <thead>\n",
       "    <tr style=\"text-align: right;\">\n",
       "      <th></th>\n",
       "      <th>gender</th>\n",
       "      <th>race/ethnicity</th>\n",
       "      <th>parental level of education</th>\n",
       "      <th>math score</th>\n",
       "      <th>reading score</th>\n",
       "      <th>writing score</th>\n",
       "    </tr>\n",
       "  </thead>\n",
       "  <tbody>\n",
       "    <tr>\n",
       "      <th>0</th>\n",
       "      <td>female</td>\n",
       "      <td>group B</td>\n",
       "      <td>bachelor's degree</td>\n",
       "      <td>72</td>\n",
       "      <td>72</td>\n",
       "      <td>74</td>\n",
       "    </tr>\n",
       "    <tr>\n",
       "      <th>1</th>\n",
       "      <td>female</td>\n",
       "      <td>group C</td>\n",
       "      <td>some college</td>\n",
       "      <td>69</td>\n",
       "      <td>90</td>\n",
       "      <td>88</td>\n",
       "    </tr>\n",
       "    <tr>\n",
       "      <th>2</th>\n",
       "      <td>female</td>\n",
       "      <td>group B</td>\n",
       "      <td>master's degree</td>\n",
       "      <td>90</td>\n",
       "      <td>95</td>\n",
       "      <td>93</td>\n",
       "    </tr>\n",
       "    <tr>\n",
       "      <th>3</th>\n",
       "      <td>male</td>\n",
       "      <td>group A</td>\n",
       "      <td>associate's degree</td>\n",
       "      <td>47</td>\n",
       "      <td>57</td>\n",
       "      <td>44</td>\n",
       "    </tr>\n",
       "    <tr>\n",
       "      <th>4</th>\n",
       "      <td>male</td>\n",
       "      <td>group C</td>\n",
       "      <td>some college</td>\n",
       "      <td>76</td>\n",
       "      <td>78</td>\n",
       "      <td>75</td>\n",
       "    </tr>\n",
       "  </tbody>\n",
       "</table>\n",
       "</div>"
      ],
      "text/plain": [
       "   gender race/ethnicity parental level of education  math score  \\\n",
       "0  female        group B           bachelor's degree          72   \n",
       "1  female        group C                some college          69   \n",
       "2  female        group B             master's degree          90   \n",
       "3    male        group A          associate's degree          47   \n",
       "4    male        group C                some college          76   \n",
       "\n",
       "   reading score  writing score  \n",
       "0             72             74  \n",
       "1             90             88  \n",
       "2             95             93  \n",
       "3             57             44  \n",
       "4             78             75  "
      ]
     },
     "execution_count": 2,
     "metadata": {},
     "output_type": "execute_result"
    }
   ],
   "source": [
    "performance_data = pd.read_csv(\"data/student_performance_subset.csv\")\n",
    "performance_data.head()"
   ]
  },
  {
   "cell_type": "code",
   "execution_count": 3,
   "metadata": {},
   "outputs": [],
   "source": [
    "y = performance_data[\"writing score\"]\n",
    "\n",
    "temp = performance_data.drop(columns=[\"writing score\"])\n",
    "\n",
    "enc = LabelEncoder()\n",
    "\n",
    "\n",
    "enc.fit(temp['parental level of education'])\n",
    "parental_edu_level_dict = dict(zip(temp['parental level of education'], enc.transform(temp['parental level of education'])))\n",
    "parental_edu_level = enc.transform(temp['parental level of education'])\n",
    "\n",
    "enc.fit(temp['race/ethnicity'])\n",
    "ethnicity_dict = dict(zip(temp['race/ethnicity'], enc.transform(temp['race/ethnicity'])))\n",
    "ethnicity = enc.transform(temp['race/ethnicity'])\n",
    "\n",
    "enc.fit(temp['gender'])\n",
    "gender_dict = dict(zip(temp['gender'], enc.transform(temp['gender'])))\n",
    "gender = enc.transform(temp['gender'])\n",
    "\n",
    "math_score = temp['math score']\n",
    "reading_score = temp['reading score']\n",
    "X = list(zip(gender, ethnicity, parental_edu_level, math_score, reading_score))"
   ]
  },
  {
   "cell_type": "code",
   "execution_count": 4,
   "metadata": {},
   "outputs": [
    {
     "data": {
      "text/plain": [
       "[{'female': 0, 'male': 1},\n",
       " {'group B': 1, 'group C': 2, 'group A': 0, 'group D': 3, 'group E': 4},\n",
       " {\"bachelor's degree\": 1,\n",
       "  'some college': 4,\n",
       "  \"master's degree\": 3,\n",
       "  \"associate's degree\": 0,\n",
       "  'high school': 2,\n",
       "  'some high school': 5}]"
      ]
     },
     "execution_count": 4,
     "metadata": {},
     "output_type": "execute_result"
    }
   ],
   "source": [
    "pickle.dump([gender_dict, ethnicity_dict, parental_edu_level_dict], open(\"dictonaries.pkl\", \"wb\"))\n",
    "\n",
    "out = pickle.load(open(\"dictonaries.pkl\", \"rb\"))\n",
    "\n",
    "out"
   ]
  },
  {
   "cell_type": "code",
   "execution_count": 5,
   "metadata": {},
   "outputs": [
    {
     "name": "stdout",
     "output_type": "stream",
     "text": [
      "Accuracy: lr 0.9332063395339473 lasso 0.9167224337509088 rf 0.9221780829659164 svr 0.8771528058319301\n"
     ]
    }
   ],
   "source": [
    "x_train, x_test, y_train, y_test = train_test_split(X, y, test_size=0.15)\n",
    "\n",
    "linear_regression_model = LinearRegression()\n",
    "lasso_model = Lasso()\n",
    "random_forest_model = RandomForestRegressor()\n",
    "svr_model = SVR()\n",
    "\n",
    "linear_regression_model.fit(x_train, y_train)\n",
    "lasso_model.fit(x_train, y_train)\n",
    "random_forest_model.fit(x_train, y_train)\n",
    "svr_model.fit(x_train, y_train)\n",
    "\n",
    "acc_lr = linear_regression_model.score(x_test, y_test)\n",
    "acc_lasso = lasso_model.score(x_test, y_test)\n",
    "acc_rf = random_forest_model.score(x_test, y_test)\n",
    "acc_svr = svr_model.score(x_test, y_test)\n",
    "\n",
    "print(f\"Accuracy: lr {acc_lr} lasso {acc_lasso} rf {acc_rf} svr {acc_svr}\")"
   ]
  },
  {
   "cell_type": "code",
   "execution_count": 6,
   "metadata": {},
   "outputs": [
    {
     "data": {
      "text/plain": [
       "array([62.13088813])"
      ]
     },
     "execution_count": 6,
     "metadata": {},
     "output_type": "execute_result"
    }
   ],
   "source": [
    "test = linear_regression_model.predict([[gender_dict[\"male\"], ethnicity_dict[\"group B\"], parental_edu_level_dict[\"associate's degree\"], 50, 70]])\n",
    "\n",
    "test"
   ]
  },
  {
   "cell_type": "code",
   "execution_count": 7,
   "metadata": {},
   "outputs": [],
   "source": [
    "pickle.dump(lasso_model,open(\"trained_models/lasso_model.pkl\", \"wb\"))"
   ]
  },
  {
   "cell_type": "code",
   "execution_count": 8,
   "metadata": {},
   "outputs": [],
   "source": [
    "pickle.dump(linear_regression_model,open(\"trained_models/linear_regression_model.pkl\", \"wb\"))"
   ]
  },
  {
   "cell_type": "code",
   "execution_count": 9,
   "metadata": {},
   "outputs": [],
   "source": [
    "pickle.dump(svr_model,open(\"trained_models/svr_model.pkl\", \"wb\"))"
   ]
  },
  {
   "cell_type": "code",
   "execution_count": 10,
   "metadata": {},
   "outputs": [],
   "source": [
    "pickle.dump(random_forest_model,open(\"trained_models/random_forest_model.pkl\", \"wb\"))"
   ]
  }
 ],
 "metadata": {
  "interpreter": {
   "hash": "aab2f03b3c315337a1eb611f5a907a35993997a86f4c30c4d6a4b32850edd2ad"
  },
  "kernelspec": {
   "display_name": "Python 3.10.0 64-bit",
   "language": "python",
   "name": "python3"
  },
  "language_info": {
   "codemirror_mode": {
    "name": "ipython",
    "version": 3
   },
   "file_extension": ".py",
   "mimetype": "text/x-python",
   "name": "python",
   "nbconvert_exporter": "python",
   "pygments_lexer": "ipython3",
   "version": "3.9.9"
  },
  "orig_nbformat": 4
 },
 "nbformat": 4,
 "nbformat_minor": 2
}
