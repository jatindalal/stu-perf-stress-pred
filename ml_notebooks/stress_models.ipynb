{
 "cells": [
  {
   "cell_type": "code",
   "execution_count": 1,
   "metadata": {},
   "outputs": [],
   "source": [
    "import numpy as np\n",
    "import pandas as pd\n",
    "\n",
    "from sklearn.tree import DecisionTreeClassifier\n",
    "from sklearn.svm import SVC\n",
    "from sklearn.neighbors import KNeighborsClassifier\n",
    "from sklearn.naive_bayes import CategoricalNB\n",
    "\n",
    "from sklearn.model_selection import train_test_split\n",
    "from sklearn.metrics import accuracy_score\n",
    "from sklearn.preprocessing import LabelEncoder\n",
    "\n",
    "import pickle"
   ]
  },
  {
   "cell_type": "code",
   "execution_count": 2,
   "metadata": {},
   "outputs": [
    {
     "data": {
      "text/html": [
       "<div>\n",
       "<style scoped>\n",
       "    .dataframe tbody tr th:only-of-type {\n",
       "        vertical-align: middle;\n",
       "    }\n",
       "\n",
       "    .dataframe tbody tr th {\n",
       "        vertical-align: top;\n",
       "    }\n",
       "\n",
       "    .dataframe thead th {\n",
       "        text-align: right;\n",
       "    }\n",
       "</style>\n",
       "<table border=\"1\" class=\"dataframe\">\n",
       "  <thead>\n",
       "    <tr style=\"text-align: right;\">\n",
       "      <th></th>\n",
       "      <th>gender</th>\n",
       "      <th>ethnicity</th>\n",
       "      <th>age</th>\n",
       "      <th>country</th>\n",
       "      <th>pg_study</th>\n",
       "      <th>stress_level</th>\n",
       "    </tr>\n",
       "  </thead>\n",
       "  <tbody>\n",
       "    <tr>\n",
       "      <th>0</th>\n",
       "      <td>Female</td>\n",
       "      <td>White</td>\n",
       "      <td>27</td>\n",
       "      <td>International</td>\n",
       "      <td>PhD</td>\n",
       "      <td>To a large extent</td>\n",
       "    </tr>\n",
       "    <tr>\n",
       "      <th>1</th>\n",
       "      <td>Female</td>\n",
       "      <td>White</td>\n",
       "      <td>26</td>\n",
       "      <td>EU</td>\n",
       "      <td>PhD</td>\n",
       "      <td>Somewhat</td>\n",
       "    </tr>\n",
       "    <tr>\n",
       "      <th>2</th>\n",
       "      <td>Female</td>\n",
       "      <td>White</td>\n",
       "      <td>53</td>\n",
       "      <td>UK</td>\n",
       "      <td>PhD</td>\n",
       "      <td>To a large extent</td>\n",
       "    </tr>\n",
       "    <tr>\n",
       "      <th>3</th>\n",
       "      <td>Female</td>\n",
       "      <td>Mixed / Multiple Ethnic Groups</td>\n",
       "      <td>29</td>\n",
       "      <td>UK</td>\n",
       "      <td>PhD</td>\n",
       "      <td>Somewhat</td>\n",
       "    </tr>\n",
       "    <tr>\n",
       "      <th>4</th>\n",
       "      <td>Female</td>\n",
       "      <td>White</td>\n",
       "      <td>22</td>\n",
       "      <td>UK</td>\n",
       "      <td>Research master's degree</td>\n",
       "      <td>Somewhat</td>\n",
       "    </tr>\n",
       "  </tbody>\n",
       "</table>\n",
       "</div>"
      ],
      "text/plain": [
       "   gender                       ethnicity  age        country  \\\n",
       "0  Female                           White   27  International   \n",
       "1  Female                           White   26             EU   \n",
       "2  Female                           White   53             UK   \n",
       "3  Female  Mixed / Multiple Ethnic Groups   29             UK   \n",
       "4  Female                           White   22             UK   \n",
       "\n",
       "                   pg_study       stress_level  \n",
       "0                       PhD  To a large extent  \n",
       "1                       PhD           Somewhat  \n",
       "2                       PhD  To a large extent  \n",
       "3                       PhD           Somewhat  \n",
       "4  Research master's degree           Somewhat  "
      ]
     },
     "execution_count": 2,
     "metadata": {},
     "output_type": "execute_result"
    }
   ],
   "source": [
    "stress_data = pd.read_csv(\"data/stress_subset.csv\", sep=\",\")\n",
    "stress_data.head()"
   ]
  },
  {
   "cell_type": "code",
   "execution_count": 3,
   "metadata": {},
   "outputs": [],
   "source": [
    "\n",
    "y = stress_data['stress_level'] \n",
    "\n",
    "temp = stress_data.drop(columns=['stress_level'])\n",
    "\n",
    "enc = LabelEncoder()\n",
    "enc.fit(temp['country'])\n",
    "country_dict = dict(zip(temp['country'], enc.transform(temp['country'])))\n",
    "country = enc.transform(temp['country'])\n",
    "\n",
    "enc.fit(temp['pg_study'])\n",
    "pg_study_dict = dict(zip(temp['pg_study'], enc.transform(temp['pg_study'])))\n",
    "pg_study = enc.transform(temp['pg_study'])\n",
    "\n",
    "enc.fit(temp['ethnicity'])\n",
    "ethnicity_dict = dict(zip(temp['ethnicity'], enc.transform(temp['ethnicity'])))\n",
    "ethnicity = enc.transform(temp['ethnicity'])\n",
    "\n",
    "enc.fit(temp['gender'])\n",
    "gender_dict = dict(zip(temp['gender'], enc.transform(temp['gender'])))\n",
    "gender = enc.transform(temp['gender'])\n",
    "\n",
    "age = temp['age']\n",
    "X = list(zip(gender, ethnicity, age, country, pg_study))"
   ]
  },
  {
   "cell_type": "code",
   "execution_count": 4,
   "metadata": {},
   "outputs": [
    {
     "data": {
      "text/plain": [
       "[{'Female': 0, 'Male': 1, 'Prefer not to say': 2},\n",
       " {'White': 4,\n",
       "  'Mixed / Multiple Ethnic Groups': 2,\n",
       "  'Asian / Asian British': 0,\n",
       "  'Other': 3,\n",
       "  'Black / African / Caribbean / Black British': 1},\n",
       " {'International': 1, 'EU': 0, 'UK': 2},\n",
       " {'PhD': 1,\n",
       "  \"Research master's degree\": 2,\n",
       "  \"Taught master's degree\": 3,\n",
       "  'Other': 0}]"
      ]
     },
     "execution_count": 4,
     "metadata": {},
     "output_type": "execute_result"
    }
   ],
   "source": [
    "pickle.dump([gender_dict, ethnicity_dict, country_dict, pg_study_dict], open(\"stress_dictonaries.pkl\", \"wb\"))\n",
    "\n",
    "out = pickle.load(open(\"stress_dictonaries.pkl\", \"rb\"))\n",
    "\n",
    "out"
   ]
  },
  {
   "cell_type": "code",
   "execution_count": 12,
   "metadata": {},
   "outputs": [
    {
     "name": "stdout",
     "output_type": "stream",
     "text": [
      "Accuracy: svm 0.6666666666666666 dt 0.36363636363636365 knn 0.36363636363636365 nb 0.6666666666666666\n"
     ]
    }
   ],
   "source": [
    "x_train, x_test, y_train, y_test = train_test_split(X, y, test_size=0.15)\n",
    "\n",
    "svm_model = SVC(kernel=\"linear\")\n",
    "decision_tree_model = DecisionTreeClassifier()\n",
    "knn_model = KNeighborsClassifier(n_neighbors=5)\n",
    "naive_bayes_model = CategoricalNB()\n",
    "\n",
    "svm_model.fit(x_train, y_train)\n",
    "decision_tree_model.fit(x_train, y_train)\n",
    "knn_model.fit(x_train, y_train)\n",
    "naive_bayes_model.fit(x_train, y_train)\n",
    "\n",
    "y_pred_svm = svm_model.predict(x_test)\n",
    "y_pred_dt = decision_tree_model.predict(x_test)\n",
    "y_pred_knn = knn_model.predict(x_test)\n",
    "y_pred_nb = naive_bayes_model.predict(x_test)\n",
    "\n",
    "acc_svm = accuracy_score(y_test, y_pred_svm)\n",
    "acc_dt = accuracy_score(y_test, y_pred_dt)\n",
    "acc_knn = accuracy_score(y_test, y_pred_knn)\n",
    "acc_nb = accuracy_score(y_test, y_pred_nb)\n",
    "\n",
    "print(f\"Accuracy: svm {acc_svm} dt {acc_dt} knn {acc_knn} nb {acc_nb}\")"
   ]
  },
  {
   "cell_type": "code",
   "execution_count": 13,
   "metadata": {},
   "outputs": [
    {
     "data": {
      "text/plain": [
       "array(['To a large extent'], dtype=object)"
      ]
     },
     "execution_count": 13,
     "metadata": {},
     "output_type": "execute_result"
    }
   ],
   "source": [
    "test = svm_model.predict([[gender_dict[\"Male\"], ethnicity_dict[\"Mixed / Multiple Ethnic Groups\"], 25, country_dict[\"UK\"], pg_study_dict[\"Taught master's degree\"]]])\n",
    "\n",
    "test"
   ]
  },
  {
   "cell_type": "code",
   "execution_count": 14,
   "metadata": {},
   "outputs": [],
   "source": [
    "pickle.dump(svm_model,open(\"trained_models/svm_model.pkl\", \"wb\"))"
   ]
  },
  {
   "cell_type": "code",
   "execution_count": 15,
   "metadata": {},
   "outputs": [],
   "source": [
    "pickle.dump(decision_tree_model,open(\"trained_models/decision_tree_model.pkl\", \"wb\"))"
   ]
  },
  {
   "cell_type": "code",
   "execution_count": 16,
   "metadata": {},
   "outputs": [],
   "source": [
    "pickle.dump(knn_model,open(\"trained_models/knn_model.pkl\", \"wb\"))"
   ]
  },
  {
   "cell_type": "code",
   "execution_count": 17,
   "metadata": {},
   "outputs": [],
   "source": [
    "pickle.dump(naive_bayes_model,open(\"trained_models/naive_bayes_model.pkl\", \"wb\"))"
   ]
  }
 ],
 "metadata": {
  "kernelspec": {
   "display_name": "Python 3.10.6 64-bit",
   "language": "python",
   "name": "python3"
  },
  "language_info": {
   "codemirror_mode": {
    "name": "ipython",
    "version": 3
   },
   "file_extension": ".py",
   "mimetype": "text/x-python",
   "name": "python",
   "nbconvert_exporter": "python",
   "pygments_lexer": "ipython3",
   "version": "3.10.6"
  },
  "orig_nbformat": 4,
  "vscode": {
   "interpreter": {
    "hash": "e7370f93d1d0cde622a1f8e1c04877d8463912d04d973331ad4851f04de6915a"
   }
  }
 },
 "nbformat": 4,
 "nbformat_minor": 2
}
